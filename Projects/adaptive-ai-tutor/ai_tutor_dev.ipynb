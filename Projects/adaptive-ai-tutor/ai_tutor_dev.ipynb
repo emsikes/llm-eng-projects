{
 "cells": [
  {
   "cell_type": "code",
   "execution_count": 13,
   "id": "97ccb006",
   "metadata": {},
   "outputs": [],
   "source": [
    "from openai import OpenAI\n",
    "import gradio as gr\n",
    "\n",
    "import os\n",
    "from dotenv import load_dotenv\n",
    "from IPython.display import display, Markdown"
   ]
  },
  {
   "cell_type": "code",
   "execution_count": 2,
   "id": "e5c73798",
   "metadata": {},
   "outputs": [],
   "source": [
    "load_dotenv()\n",
    "openai_api_key = os.getenv(\"OPENAI_API_KEY\")"
   ]
  },
  {
   "cell_type": "code",
   "execution_count": 3,
   "id": "f410c098",
   "metadata": {},
   "outputs": [],
   "source": [
    "openai = OpenAI(api_key = openai_api_key)"
   ]
  },
  {
   "cell_type": "code",
   "execution_count": 5,
   "id": "1694c35b",
   "metadata": {},
   "outputs": [],
   "source": [
    "def print_markdown(text):\n",
    "    \"\"\"Better output format for notebooks\"\"\"\n",
    "    display(Markdown(text))"
   ]
  },
  {
   "cell_type": "code",
   "execution_count": null,
   "id": "e7064414",
   "metadata": {},
   "outputs": [],
   "source": [
    "def get_ai_tutor_response(user_question):\n",
    "    \"\"\"\n",
    "    This function sends  question to OpenAI, asking it to respond as an AI Tutor\n",
    "\n",
    "    Args:\n",
    "        user_question (str): The question asked  by the user\n",
    "\n",
    "    Returns:\n",
    "        str: The OpenAI response, or an error message\n",
    "    \"\"\"\n",
    "    # Instruct OpenAI on how to respond\n",
    "    system_prompt = \"You are a helpful and patient AI Tutor.  Explain concepts clearly and consisely.\"\n",
    "\n",
    "    try:\n",
    "        # Initiate API call\n",
    "        response = openai.chat.completions.create(\n",
    "            model = 'gpt-4o-mini',\n",
    "            messages = [{\"role\":\"system\", \"content\": system_prompt}, {\"role\": \"user\", \"content\": user_question}],\n",
    "            temperature = 0.7, # some creativity, but keep responses focused\n",
    "        )\n",
    "        # Get the answer content\n",
    "        ai_response = response.choices[0].message.content\n",
    "        return ai_response\n",
    "    \n",
    "    except Exception as e:\n",
    "        # Error handling\n",
    "        print(f\"An error occurred: {e}\")\n",
    "        return(f\"Sorry, I encountered an error trying to get an answer: {e}\")"
   ]
  },
  {
   "cell_type": "code",
   "execution_count": null,
   "id": "c6d2973e",
   "metadata": {},
   "outputs": [
    {
     "name": "stdout",
     "output_type": "stream",
     "text": [
      "Asking the AI Tutor: 'Could you explain the concept of classes in Python and their purpose in programming?\n"
     ]
    },
    {
     "data": {
      "text/markdown": [
       "\n",
       "Ai Tutor's Response:\n"
      ],
      "text/plain": [
       "<IPython.core.display.Markdown object>"
      ]
     },
     "metadata": {},
     "output_type": "display_data"
    },
    {
     "data": {
      "text/markdown": [
       "Certainly! In Python, a **class** is a blueprint for creating objects. An object is an instance of a class. Classes allow you to bundle data (attributes) and functionality (methods) together. This is a key part of **object-oriented programming (OOP)**, which is a programming paradigm that uses \"objects\" to design applications and programs.\n",
       "\n",
       "### Purpose of Classes:\n",
       "\n",
       "1. **Encapsulation**: Classes help to encapsulate data and functions that operate on that data. This means that you can group related variables (attributes) and functions (methods) together, which makes your code more organized and easier to manage.\n",
       "\n",
       "2. **Reusability**: Once a class is defined, you can create multiple objects (instances) from it. This promotes code reuse, as you don't have to write the same code multiple times. You can create various instances of a class that share the same structure and behavior but hold different data.\n",
       "\n",
       "3. **Inheritance**: Classes support inheritance, allowing you to create a new class based on an existing class. This helps to build a hierarchy and enables code reuse and extension of existing functionality.\n",
       "\n",
       "4. **Polymorphism**: With classes, you can define methods in a way that they can behave differently based on the object calling them. This allows for flexible and interchangeable code.\n",
       "\n",
       "### Defining a Class:\n",
       "\n",
       "Here's a basic example of how to define a class in Python:\n",
       "\n",
       "```python\n",
       "class Dog:\n",
       "    # Constructor to initialize attributes\n",
       "    def __init__(self, name, age):\n",
       "        self.name = name  # Attribute\n",
       "        self.age = age    # Attribute\n",
       "\n",
       "    # Method to make the dog bark\n",
       "    def bark(self):\n",
       "        return f\"{self.name} says Woof!\"\n",
       "\n",
       "# Creating an instance (object) of the Dog class\n",
       "my_dog = Dog(\"Buddy\", 3)\n",
       "\n",
       "# Accessing attributes and methods\n",
       "print(my_dog.name)  # Output: Buddy\n",
       "print(my_dog.bark())  # Output: Buddy says Woof!\n",
       "```\n",
       "\n",
       "### Key Components of a Class:\n",
       "\n",
       "- **Attributes**: Variables that hold data related to the object (e.g., `name`, `age`).\n",
       "- **Methods**: Functions defined within a class that operate on its attributes (e.g., `bark()`).\n",
       "- **Constructor (`__init__`)**: A special method that is called when an object is created. It initializes the object's attributes.\n",
       "\n",
       "### Conclusion:\n",
       "\n",
       "Classes in Python are fundamental for organizing code, promoting reuse, and enabling powerful design patterns. They help you model real-world entities and their interactions in a structured way, making your programs more maintainable and scalable."
      ],
      "text/plain": [
       "<IPython.core.display.Markdown object>"
      ]
     },
     "metadata": {},
     "output_type": "display_data"
    }
   ],
   "source": [
    "# User question logic\n",
    "test_question = \"Could you explain the concept of classes in Python and their purpose in programming?\"\n",
    "print(f\"Asking the AI Tutor: '{test_question}\")\n",
    "\n",
    "# Call the function that submits the question to OpenAI with the user question\n",
    "tutor_answer = get_ai_tutor_response(test_question)\n",
    "\n",
    "# Output the OpenAI response\n",
    "print_markdown(\"\\nAI Tutor's Response:\\n\")\n",
    "print_markdown(tutor_answer)"
   ]
  },
  {
   "cell_type": "markdown",
   "id": "a5ee6b22",
   "metadata": {},
   "source": [
    "# Build Gradio interface"
   ]
  },
  {
   "cell_type": "code",
   "execution_count": 22,
   "id": "efe9f6e9",
   "metadata": {},
   "outputs": [
    {
     "name": "stdout",
     "output_type": "stream",
     "text": [
      "Launching AI Tutor interface....\n",
      "* Running on local URL:  http://127.0.0.1:7868\n",
      "* To create a public link, set `share=True` in `launch()`.\n"
     ]
    },
    {
     "data": {
      "text/html": [
       "<div><iframe src=\"http://127.0.0.1:7868/\" width=\"100%\" height=\"500\" allow=\"autoplay; camera; microphone; clipboard-read; clipboard-write;\" frameborder=\"0\" allowfullscreen></iframe></div>"
      ],
      "text/plain": [
       "<IPython.core.display.HTML object>"
      ]
     },
     "metadata": {},
     "output_type": "display_data"
    },
    {
     "data": {
      "text/plain": []
     },
     "execution_count": 22,
     "metadata": {},
     "output_type": "execute_result"
    }
   ],
   "source": [
    "\"\"\"\n",
    "fn: get_ai_turor_response function\n",
    "inputs: Component for user input / question\n",
    "outputs: Component to display the AI's answer\n",
    "title / description: Text for the UI heading\n",
    "\"\"\"\n",
    "ai_tutor_interface_simple = gr.Interface(\n",
    "    fn = get_ai_tutor_response,\n",
    "    inputs = gr.Textbox(lines=5, placeholder=\"Ask the AI Tutor anything!\", label=\"Your Question\"),\n",
    "    outputs = gr.Textbox(label=\"AI Tutor's Answer\"),\n",
    "    title = \"AI Tutor\",\n",
    "    description = \"Enter your qustion below and the AI Tutor will provide an explaination power by OpenAI!\",\n",
    "    flagging_mode = \"never\"\n",
    ")\n",
    "\n",
    "print(\"Launching AI Tutor interface....\")\n",
    "ai_tutor_interface_simple.launch()"
   ]
  },
  {
   "cell_type": "markdown",
   "id": "339492a4",
   "metadata": {},
   "source": [
    "# Add streaming output"
   ]
  },
  {
   "cell_type": "code",
   "execution_count": 24,
   "id": "5fb6bf45",
   "metadata": {},
   "outputs": [],
   "source": [
    "def stream_ai_tutor_response(user_question):\n",
    "    \"\"\"\n",
    "    Sends a question to the OpenAI API and streams a response as a generator\n",
    "\n",
    "    Args:\n",
    "        user_question (str): The question asked  by the user\n",
    "\n",
    "    Yields:\n",
    "        str: Chunks of the AI's response \n",
    "    \"\"\"\n",
    "\n",
    "    system_prompt = \"You are a helpful and patient AI Tutor.  Explain concepts clearly and consisely.\"\n",
    "\n",
    "    try:\n",
    "        stream = openai.chat.completions.create(\n",
    "            model = \"gpt-4o-mini\",\n",
    "            messages = [{\"role\": \"system\", \"content\": system_prompt}, {\"role\": \"user\", \"content\": user_question}],\n",
    "            temperature = 0.7,\n",
    "            stream = True,\n",
    "        )\n",
    "\n",
    "        # Empty list we will use to store the full response\n",
    "        full_response = \"\"\n",
    "\n",
    "        # Iterate through each response chunk as its recieved\n",
    "        for chunk in stream:\n",
    "            # Verify contents\n",
    "            if chunk.choices[0].delta and chunk.choices[0].delta.content:\n",
    "                # extract the text from current chunk\n",
    "                text_chunk = chunk.choices[0].delta.content\n",
    "                # Append this chunk to the overall response\n",
    "                full_response += text_chunk\n",
    "                # Send current state of the response to Gradio UI as it arrives\n",
    "                yield full_response\n",
    "\n",
    "    except Exception as e:\n",
    "        print(f\"An error occurred during streaming: {e}\")\n",
    "        yield f\"Encoutnered an error: {e}\""
   ]
  },
  {
   "cell_type": "markdown",
   "id": "e36217f5",
   "metadata": {},
   "source": [
    "# Updated Gradio response for use with streaming functionality"
   ]
  },
  {
   "cell_type": "code",
   "execution_count": null,
   "id": "6ef18203",
   "metadata": {},
   "outputs": [
    {
     "name": "stdout",
     "output_type": "stream",
     "text": [
      "Launching AI Tutor interface....\n",
      "* Running on local URL:  http://127.0.0.1:7869\n",
      "* To create a public link, set `share=True` in `launch()`.\n"
     ]
    },
    {
     "data": {
      "text/html": [
       "<div><iframe src=\"http://127.0.0.1:7869/\" width=\"100%\" height=\"500\" allow=\"autoplay; camera; microphone; clipboard-read; clipboard-write;\" frameborder=\"0\" allowfullscreen></iframe></div>"
      ],
      "text/plain": [
       "<IPython.core.display.HTML object>"
      ]
     },
     "metadata": {},
     "output_type": "display_data"
    },
    {
     "data": {
      "text/plain": []
     },
     "execution_count": 26,
     "metadata": {},
     "output_type": "execute_result"
    }
   ],
   "source": [
    "\"\"\"\n",
    "fn: stream_ai_tutor_response function\n",
    "inputs: Component for user input / question\n",
    "outputs: Component to display the AI's answer\n",
    "title / description: Text for the UI heading\n",
    "\"\"\"\n",
    "ai_tutor_interface_streaming = gr.Interface(\n",
    "    fn = stream_ai_tutor_response,\n",
    "    inputs = gr.Textbox(lines=5, placeholder=\"Ask the AI Tutor anything!\", label=\"Your Question\"),\n",
    "    outputs = gr.Textbox(label=\"AI Tutor's Answer\"),\n",
    "    title = \"AI Tutor\",\n",
    "    description = \"Enter your qustion below and the AI Tutor will provide an explaination power by OpenAI!\",\n",
    "    flagging_mode = \"never\"\n",
    ")\n",
    "\n",
    "print(\"Launching AI Tutor interface....\")\n",
    "ai_tutor_interface_streaming.launch()"
   ]
  },
  {
   "cell_type": "markdown",
   "id": "364c4cfd",
   "metadata": {},
   "source": [
    "# Add explaination level slider bar"
   ]
  },
  {
   "cell_type": "code",
   "execution_count": 28,
   "id": "5a298867",
   "metadata": {},
   "outputs": [],
   "source": [
    "# define a map of explaination levels\n",
    "explanation_levels = {\n",
    "    1: \"very simple, as if I am a 5 year old\",\n",
    "    2: \"simple, as if I am 10 years old\",\n",
    "    3: \"high school level equivalent\",\n",
    "    4: \"college student level equivalent\",\n",
    "    5: \"expert or PHD level in this field\"\n",
    "}"
   ]
  },
  {
   "cell_type": "code",
   "execution_count": null,
   "id": "a6ebf1bd",
   "metadata": {},
   "outputs": [],
   "source": [
    "def stream_ai_tutor_with_level(user_question, explanation_level_value):\n",
    "    \"\"\"\n",
    "    Sends a question to the OpenAI API and streams a response as a generator\n",
    "\n",
    "    Args:\n",
    "        user_question (str): The question asked  by the user\n",
    "        explanation_level_value (int): The value from the slider bar (1-5)\n",
    "\n",
    "    Yields:\n",
    "        str: Chunks of the AI's response \n",
    "    \"\"\"\n",
    "\n",
    "    # Get the descriptive text from the chosen level, default to clearly and concisely\n",
    "    level_description = explanation_levels.get(\n",
    "        explanation_level_value = \"clearly and concisely\" \n",
    "    )\n",
    "\n",
    "    # Construct the system prompt based on the user question and the explanation level\n",
    "    system_prompt = f\"You are a helpful AI Totor.  Explain the following concept {level_description}\"\n",
    "\n",
    "    print(f\"DEUBUG: Using System Prompt: '{system_prompt}'\")\n",
    "\n",
    "    try:\n",
    "        stream = openai.chat.completions.create(\n",
    "            model = \"gpt-4o-mini\",\n",
    "            messages = [{\"role\": \"system\", \"content\": system_prompt}, {\"role\": \"user\", \"content\": user_question}],\n",
    "            temperature = 0.7,\n",
    "            stream = True,\n",
    "        )\n",
    "\n",
    "        # Empty list we will use to store the full response\n",
    "        full_response = \"\"\n",
    "\n",
    "        # Iterate through each response chunk as its recieved\n",
    "        for chunk in stream:\n",
    "            # Verify contents\n",
    "            if chunk.choices[0].delta and chunk.choices[0].delta.content:\n",
    "                # extract the text from current chunk\n",
    "                text_chunk = chunk.choices[0].delta.content\n",
    "                # Append this chunk to the overall response\n",
    "                full_response += text_chunk\n",
    "                # Send current state of the response to Gradio UI as it arrives\n",
    "                yield full_response\n",
    "\n",
    "    except Exception as e:\n",
    "        print(f\"An error occurred during streaming: {e}\")\n",
    "        yield f\"Encoutnered an error: {e}\""
   ]
  },
  {
   "cell_type": "code",
   "execution_count": 41,
   "id": "35156275",
   "metadata": {},
   "outputs": [
    {
     "name": "stdout",
     "output_type": "stream",
     "text": [
      "Lanching Addvaced AI Tutor Interface...\n",
      "* Running on local URL:  http://127.0.0.1:7873\n",
      "* To create a public link, set `share=True` in `launch()`.\n"
     ]
    },
    {
     "data": {
      "text/html": [
       "<div><iframe src=\"http://127.0.0.1:7873/\" width=\"100%\" height=\"500\" allow=\"autoplay; camera; microphone; clipboard-read; clipboard-write;\" frameborder=\"0\" allowfullscreen></iframe></div>"
      ],
      "text/plain": [
       "<IPython.core.display.HTML object>"
      ]
     },
     "metadata": {},
     "output_type": "display_data"
    },
    {
     "data": {
      "text/plain": []
     },
     "execution_count": 41,
     "metadata": {},
     "output_type": "execute_result"
    },
    {
     "name": "stdout",
     "output_type": "stream",
     "text": [
      "DEUBUG: Using System Prompt: 'You are a helpful AI Totor.  Explain the following concept college student level equivalent'\n",
      "DEUBUG: Using System Prompt: 'You are a helpful AI Totor.  Explain the following concept very simple, as if I am a 5 year old'\n",
      "DEUBUG: Using System Prompt: 'You are a helpful AI Totor.  Explain the following concept expert or PHD level in this field'\n"
     ]
    }
   ],
   "source": [
    "# New Gradiop UI with Textbox and Slider Bar\n",
    "ai_tutor_interface_slider = gr.Interface(\n",
    "    fn = stream_ai_tutor_with_level,\n",
    "    inputs = [\n",
    "        gr.Textbox(lines=5, placeholder=\"Ask the AI Tutor a question...\", label=\"Your Question\"),\n",
    "        gr.Slider(\n",
    "            minimum=1,\n",
    "            maximum=5,\n",
    "            step=1, # allow only whole number increments\n",
    "            value=3,\n",
    "            label=\"Explanation Level\"\n",
    "        ),\n",
    "    ],\n",
    "    outputs = gr.Markdown(label=\"AI Tutor's Answer\", container=True, height=250),\n",
    "    title = \"Advanced AI Tutor\",\n",
    "    description = \"Ask a question, and select the desired level of explaination using the slider bar\",\n",
    "    flagging_mode = \"never\"\n",
    ")\n",
    "\n",
    "print(\"Lanching Addvaced AI Tutor Interface...\")\n",
    "ai_tutor_interface_slider.launch()"
   ]
  },
  {
   "cell_type": "code",
   "execution_count": null,
   "id": "2d4f67e4",
   "metadata": {},
   "outputs": [],
   "source": []
  }
 ],
 "metadata": {
  "kernelspec": {
   "display_name": "venv",
   "language": "python",
   "name": "python3"
  },
  "language_info": {
   "codemirror_mode": {
    "name": "ipython",
    "version": 3
   },
   "file_extension": ".py",
   "mimetype": "text/x-python",
   "name": "python",
   "nbconvert_exporter": "python",
   "pygments_lexer": "ipython3",
   "version": "3.12.3"
  }
 },
 "nbformat": 4,
 "nbformat_minor": 5
}
