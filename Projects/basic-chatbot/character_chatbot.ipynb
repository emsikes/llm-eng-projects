{
 "cells": [
  {
   "cell_type": "code",
   "execution_count": 2,
   "id": "8676e416",
   "metadata": {},
   "outputs": [],
   "source": [
    "from openai import OpenAI\n",
    "\n",
    "import os\n",
    "from dotenv import load_dotenv"
   ]
  },
  {
   "cell_type": "code",
   "execution_count": 4,
   "id": "96e248c7",
   "metadata": {},
   "outputs": [],
   "source": [
    "load_dotenv()\n",
    "openai_api_key = os.getenv(\"OPENAI_API_KEY\")"
   ]
  },
  {
   "cell_type": "code",
   "execution_count": 10,
   "id": "1ea7c4fc",
   "metadata": {},
   "outputs": [],
   "source": [
    "openai = OpenAI()\n",
    "model = (\"gpt-4o-mini\")"
   ]
  },
  {
   "cell_type": "code",
   "execution_count": 21,
   "id": "51b86b10",
   "metadata": {},
   "outputs": [],
   "source": [
    "message = \"Create a 5 phase roadmap to become an AI/ML Engineer for a current Cloud Architect\""
   ]
  },
  {
   "cell_type": "code",
   "execution_count": 30,
   "id": "dd34b134",
   "metadata": {},
   "outputs": [],
   "source": [
    "system_instructions = \"You are a senior level AI / ML Engineer providing guidance to an aspiring AI / ML Engineer\""
   ]
  },
  {
   "cell_type": "code",
   "execution_count": 32,
   "id": "9e556dc9",
   "metadata": {},
   "outputs": [],
   "source": [
    "response = openai.chat.completions.create(model=model, messages = [{\"role\": \"user\", \"content\": message, \n",
    "                                                                    \"role\":\"system\", \"content\": system_instructions}])"
   ]
  },
  {
   "cell_type": "code",
   "execution_count": 33,
   "id": "4709cfd9",
   "metadata": {},
   "outputs": [
    {
     "name": "stdout",
     "output_type": "stream",
     "text": [
      "Hello! It’s great to hear that you’re interested in becoming an AI/ML Engineer. Here are some comprehensive steps and tips that can help guide you on this journey:\n",
      "\n",
      "### 1. **Understand the Basics**\n",
      "   - **Mathematics**: Focus on linear algebra, calculus, probability, and statistics. These subjects form the foundation of many ML algorithms.\n",
      "   - **Programming Skills**: Python is the most widely used programming language in AI/ML. Make sure you are comfortable with Python and libraries such as NumPy, Pandas, and Matplotlib.\n",
      "\n",
      "### 2. **Learn Machine Learning Fundamentals**\n",
      "   - Start with online courses or textbooks that cover basic concepts and algorithms, such as:\n",
      "     - Supervised vs Unsupervised Learning\n",
      "     - Regression, Classification, Clustering\n",
      "     - Decision Trees, Support Vector Machines, Neural Networks\n",
      "   - Recommended resources:\n",
      "     - Andrew Ng’s Machine Learning course on Coursera\n",
      "     - “Pattern Recognition and Machine Learning” by Christopher Bishop\n",
      "     - “Hands-On Machine Learning with Scikit-Learn, Keras, and TensorFlow” by Aurélien Géron\n",
      "\n",
      "### 3. **Build Practical Skills**\n",
      "   - Engage in projects that require you to apply ML techniques. Start with simple datasets such as the Iris dataset or the Titanic dataset from Kaggle.\n",
      "   - Participate in Kaggle competitions to apply your skills in a competitive environment.\n",
      "   - Create a portfolio showcasing your projects on platforms like GitHub.\n",
      "\n",
      "### 4. **Deepen Your Understanding**\n",
      "   - Once you have a solid grasp of basic ML, delve into deep learning, natural language processing, or computer vision.\n",
      "   - Study frameworks like TensorFlow and PyTorch for building neural networks.\n",
      "   - Learn about advanced topics such as transfer learning, reinforcement learning, and generative models.\n",
      "\n",
      "### 5. **Explore Tools and Technologies**\n",
      "   - Familiarize yourself with tools for data manipulation and visualization (e.g., SQL, Jupyter Notebooks, Tableau).\n",
      "   - Understand cloud platforms like AWS, Google Cloud, or Azure, focusing on their machine learning services.\n",
      "   - Get comfortable with version control systems like Git.\n",
      "\n",
      "### 6. **Contribute to the Community**\n",
      "   - Engage with the AI/ML community through forums like Stack Overflow, Reddit (r/MachineLearning), or specialized groups on LinkedIn.\n",
      "   - Attend meetups, conferences, and webinars to network with professionals in the field.\n",
      "\n",
      "### 7. **Stay Updated**\n",
      "   - AI/ML is a rapidly evolving field. Make it a habit to read research papers and follow relevant blogs, podcasts, and YouTube channels.\n",
      "   - Use arXiv.org to look at the latest research papers in AI and ML.\n",
      "\n",
      "### 8. **Consider Advanced Education**\n",
      "   - Depending on your career goals, consider pursuing a master’s degree or Ph.D. in computer science, statistics, or a related field. This is particularly beneficial for roles in research.\n",
      "\n",
      "### 9. **Soft Skills**\n",
      "   - Develop skills such as problem-solving, critical thinking, and communication. Being able to explain complex concepts to non-technical stakeholders is crucial in AI/ML roles.\n",
      "\n",
      "### 10. **Internships and Job Applications**\n",
      "   - Gain practical experience through internships or entry-level positions that allow you to work with data and ML models.\n",
      "   - Tailor your resume and cover letters to highlight relevant skills and projects to prospective employers.\n",
      "\n",
      "### Final Thoughts\n",
      "Building a career in AI/ML requires continuous learning and adaptability. Don't be discouraged by challenges; each project and problem is an opportunity to grow. Stay curious and passionate about the field. Good luck on your journey, and feel free to reach out if you have more questions!\n"
     ]
    }
   ],
   "source": [
    "print(response.choices[0].message.content)"
   ]
  },
  {
   "cell_type": "code",
   "execution_count": 24,
   "id": "7537f9e9",
   "metadata": {},
   "outputs": [
    {
     "name": "stdout",
     "output_type": "stream",
     "text": [
      "<class 'openai.types.chat.chat_completion.ChatCompletion'>\n"
     ]
    }
   ],
   "source": [
    "print(type(response))"
   ]
  },
  {
   "cell_type": "code",
   "execution_count": null,
   "id": "208a668e",
   "metadata": {},
   "outputs": [],
   "source": []
  }
 ],
 "metadata": {
  "kernelspec": {
   "display_name": "venv",
   "language": "python",
   "name": "python3"
  },
  "language_info": {
   "codemirror_mode": {
    "name": "ipython",
    "version": 3
   },
   "file_extension": ".py",
   "mimetype": "text/x-python",
   "name": "python",
   "nbconvert_exporter": "python",
   "pygments_lexer": "ipython3",
   "version": "3.9.13"
  }
 },
 "nbformat": 4,
 "nbformat_minor": 5
}
