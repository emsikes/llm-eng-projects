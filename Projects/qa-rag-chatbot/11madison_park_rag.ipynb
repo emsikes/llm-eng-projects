{
 "cells": [
  {
   "cell_type": "code",
   "execution_count": 17,
   "id": "ec6576c3",
   "metadata": {},
   "outputs": [],
   "source": [
    "from openai import OpenAI\n",
    "\n",
    "from langchain_openai import OpenAIEmbeddings, OpenAI\n",
    "from langchain.text_splitter import RecursiveCharacterTextSplitter\n",
    "from langchain.document_loaders import TextLoader\n",
    "from langchain.chains import RetrievalQAWithSourcesChain\n",
    "from langchain_chroma import Chroma\n",
    "\n",
    "import os\n",
    "from dotenv import load_dotenv\n",
    "import gradio as gr"
   ]
  },
  {
   "cell_type": "code",
   "execution_count": 18,
   "id": "b86f3b79",
   "metadata": {},
   "outputs": [],
   "source": [
    "load_dotenv()\n",
    "openai_api_key = os.getenv(\"OPENAI_API_KEY\")"
   ]
  },
  {
   "cell_type": "code",
   "execution_count": 19,
   "id": "b404ec65",
   "metadata": {},
   "outputs": [],
   "source": [
    "embeddings = OpenAIEmbeddings(openai_api_key=openai_api_key)"
   ]
  },
  {
   "cell_type": "code",
   "execution_count": 20,
   "id": "135d5ae6",
   "metadata": {},
   "outputs": [
    {
     "name": "stdout",
     "output_type": "stream",
     "text": [
      "sk-proj-ed\n"
     ]
    }
   ],
   "source": [
    "if openai_api_key:\n",
    "    print(openai_api_key[:10])"
   ]
  },
  {
   "cell_type": "code",
   "execution_count": 21,
   "id": "ef1b66bf",
   "metadata": {},
   "outputs": [],
   "source": [
    "DATA_FILE_PATH = \"../../datasets/eleven_madison_park_data.txt\""
   ]
  },
  {
   "cell_type": "code",
   "execution_count": 22,
   "id": "329b3dcc",
   "metadata": {},
   "outputs": [],
   "source": [
    "loader = TextLoader(DATA_FILE_PATH, encoding=\"utf-8\")"
   ]
  },
  {
   "cell_type": "code",
   "execution_count": 23,
   "id": "9f05432a",
   "metadata": {},
   "outputs": [],
   "source": [
    "raw_documents = loader.load()"
   ]
  },
  {
   "cell_type": "code",
   "execution_count": 24,
   "id": "4db78182",
   "metadata": {},
   "outputs": [
    {
     "name": "stdout",
     "output_type": "stream",
     "text": [
      "Document Loaded: 1\n"
     ]
    }
   ],
   "source": [
    "print(f\"Document Loaded: {len(raw_documents)}\")"
   ]
  },
  {
   "cell_type": "code",
   "execution_count": 25,
   "id": "44d0b975",
   "metadata": {},
   "outputs": [
    {
     "name": "stdout",
     "output_type": "stream",
     "text": [
      "Source: https://www.elevenmadisonpark.com/\n",
      "Title: Eleven Madison Park\n",
      "Content:\n",
      "Book on Resy\n",
      "---END OF SOURCE---\n",
      "\n",
      "Source: https://www.elevenmadisonpark.com/careers\n",
      "Title: Careers — Eleven Madison Park\n",
      "Content:\n",
      "Join Our Team Eleven Madison Park ▾ All Businesses Eleven Madison Park Clemente Bar Daniel Humm Hospitality Filter Categories Culinary Pastry Wine & Beverage Dining Room Office & Admin Other Job Types Full Time Part Time Compensation Salary Hourly Apply filters OPEN OPPORTUNITIES Staff Acco...\n"
     ]
    }
   ],
   "source": [
    "print(raw_documents[0].page_content[:500] + \"...\")"
   ]
  },
  {
   "cell_type": "code",
   "execution_count": 26,
   "id": "2235c32d",
   "metadata": {},
   "outputs": [
    {
     "name": "stdout",
     "output_type": "stream",
     "text": [
      "ase contact careers@elevenmadisonpark.com or visit Culinary Agents . To stay up to date about future Eleven Madison Park news and events, please sign up for our Newsletter . Please contact events@elevenmadisonpark.com Please contact press@elevenmadisonpark.com Thank you for thinking of Eleven Madison Park for your inquiry. At this time, all of our non-profit efforts are focused on our partnership with Rethink Food . Email: info@elevenmadisonpark.com Phone: 212.889.0905 Ext. 3\n",
      "---END OF SOURCE---...\n"
     ]
    }
   ],
   "source": [
    "print(raw_documents[0].page_content[-500:] + \"...\")"
   ]
  },
  {
   "cell_type": "code",
   "execution_count": 27,
   "id": "24cc5e8c",
   "metadata": {},
   "outputs": [],
   "source": [
    "text_splitter = RecursiveCharacterTextSplitter(chunk_size=1000, chunk_overlap = 150,)"
   ]
  },
  {
   "cell_type": "code",
   "execution_count": 28,
   "id": "7189f7a7",
   "metadata": {},
   "outputs": [
    {
     "name": "stdout",
     "output_type": "stream",
     "text": [
      "Document split into: 38 chunks\n"
     ]
    }
   ],
   "source": [
    "try:\n",
    "    documents = text_splitter.split_documents(raw_documents)\n",
    "    print(f\"Document split into: {len(documents)} chunks\")\n",
    "except Exception as e:\n",
    "    raise ValueError(\"Error splitting document: {e}\")"
   ]
  },
  {
   "cell_type": "code",
   "execution_count": 29,
   "id": "6258f6cc",
   "metadata": {},
   "outputs": [
    {
     "name": "stdout",
     "output_type": "stream",
     "text": [
      "Source: https://www.elevenmadisonpark.com/faq\n",
      "Title: FAQs — Eleven Madison Park\n",
      "Content:\n"
     ]
    }
   ],
   "source": [
    "print(documents[8].page_content)"
   ]
  },
  {
   "cell_type": "code",
   "execution_count": 30,
   "id": "3538817b",
   "metadata": {},
   "outputs": [
    {
     "name": "stdout",
     "output_type": "stream",
     "text": [
      "{'source': '../../datasets/eleven_madison_park_data.txt'}\n"
     ]
    }
   ],
   "source": [
    "print(documents[0].metadata)"
   ]
  },
  {
   "cell_type": "code",
   "execution_count": 31,
   "id": "7d68d376",
   "metadata": {},
   "outputs": [
    {
     "data": {
      "text/plain": [
       "[Document(metadata={'source': '../../datasets/eleven_madison_park_data.txt'}, page_content='Source: https://www.elevenmadisonpark.com/\\nTitle: Eleven Madison Park\\nContent:\\nBook on Resy\\n---END OF SOURCE---'),\n",
       " Document(metadata={'source': '../../datasets/eleven_madison_park_data.txt'}, page_content='Source: https://www.elevenmadisonpark.com/careers\\nTitle: Careers — Eleven Madison Park\\nContent:'),\n",
       " Document(metadata={'source': '../../datasets/eleven_madison_park_data.txt'}, page_content=\"Join Our Team Eleven Madison Park ▾ All Businesses Eleven Madison Park Clemente Bar Daniel Humm Hospitality Filter Categories Culinary Pastry Wine & Beverage Dining Room Office & Admin Other Job Types Full Time Part Time Compensation Salary Hourly Apply filters OPEN OPPORTUNITIES Staff Accountant - Part Time Eleven Madison Park Part Time • Hourly ($20 - $25) Host/Reservationist Eleven Madison Park Full Time • Hourly ($24) Sous Chef Eleven Madison Park Full Time • Salary ($72K - $75K) Pastry Cook Eleven Madison Park Full Time • Hourly ($18 - $20) Kitchen Server Eleven Madison Park Full Time • Hourly ($16) plus tips Dining Room Manager Eleven Madison Park Full Time • Salary ($72K - $75K) Porter Manager Eleven Madison Park Full Time • Salary ($70K - $75K) Senior Sous Chef Eleven Madison Park Full Time • Salary ($85K - $95K) Maitre D Eleven Madison Park Full Time • Hourly ($16) plus tips Even if you don't see the opportunity you're looking for, we would still love to hear from you. There\"),\n",
       " Document(metadata={'source': '../../datasets/eleven_madison_park_data.txt'}, page_content=\"Madison Park Full Time • Hourly ($16) plus tips Even if you don't see the opportunity you're looking for, we would still love to hear from you. There may be a place for you on our team as we grow. × Where Do You Want To Work? Eleven Madison Park Clemente Bar Daniel Humm Hospitality I Want to Work Here\"),\n",
       " Document(metadata={'source': '../../datasets/eleven_madison_park_data.txt'}, page_content='---END OF SOURCE---'),\n",
       " Document(metadata={'source': '../../datasets/eleven_madison_park_data.txt'}, page_content='Source: https://www.elevenmadisonpark.com/giftcards\\nTitle: Gift Cards — Eleven Madison Park\\nContent:\\nGift Cards Purchase Gift Cards Here Please note that all gift card sales are final and nonrefundable.\\n---END OF SOURCE---'),\n",
       " Document(metadata={'source': '../../datasets/eleven_madison_park_data.txt'}, page_content='Source: https://www.elevenmadisonpark.com/press-and-accolades\\nTitle: Press and Accolades — Eleven Madison Park\\nContent:\\nAccolades World’s 50 Best Best of the Best The New York Times Four Stars Michelin Guide Three Stars Wine Spectator Grand Award The World of Fine Wine Best Overall Wine List James Beard Foundation Outstanding Chef, Outstanding Service, Outstanding Pastry Chef, Outstanding Restaurant, Best Chef: NYC, Outstanding Wine Service, Rising Star Chef Recent Press Time: “Is Cooking for the 1% for a Reason” Washington Post: “The Joy of Plant-Based Eating” Interview: “Daniel Humm Is Begging You to Eat More Plants” Financial Times: \"Epicurean escapes: Alain Ducasse and Daniel Humm’s transatlantic adventure\" The Strategist: “What Chef Daniel Humm Can’t Live Without”\\n---END OF SOURCE---'),\n",
       " Document(metadata={'source': '../../datasets/eleven_madison_park_data.txt'}, page_content='Source: https://www.elevenmadisonpark.com/accessibility-statement\\nTitle: Accessibility Statement — Eleven Madison Park\\nContent:\\nAccessibility Statement Eleven Madison Park is committed to providing digital accessibility for everyone. Our ongoing accessibility effort works towards conforming to the Web Content Accessibility Guidelines (WCAG) version 2.1, level AA criteria. These guidelines not only help make web content accessible to users with sensory, cognitive and mobility disabilities, but ultimately to all users, regardless of ability. Our ongoing accessibility efforts work toward making ElevenMadisonPark.com as accessible as possible. Eleven Madison Park welcomes comments on how to improve the site’s accessibility for users with disabilities. Please email: info@elevenmadisonpark.com .\\n---END OF SOURCE---\\n\\nSource: https://www.elevenmadisonpark.com/cart\\nTitle: Eleven Madison Park\\nContent:\\nShopping Cart You have nothing in your shopping cart. Continue Shopping\\n---END OF SOURCE---'),\n",
       " Document(metadata={'source': '../../datasets/eleven_madison_park_data.txt'}, page_content='Source: https://www.elevenmadisonpark.com/faq\\nTitle: FAQs — Eleven Madison Park\\nContent:'),\n",
       " Document(metadata={'source': '../../datasets/eleven_madison_park_data.txt'}, page_content='FAQs We are located at 11 Madison Avenue, on the northeast corner of East 24th and Madison Avenue, directly across the street from Madison Square Park. We offer three menus, all 100% plant-based: Full Tasting Menu : An eight- to nine-course experience priced at $365 per guest. This menu typically lasts about two to three hours and features a mix of plated and communal dishes. 5-Course Menu : Priced at $285 per guest, this menu highlights selections from the Full Tasting Menu and lasts approximately two hours. Bar Tasting Menu : Available in our lounge for $225 per guest, this menu includes four to five courses and is designed to last around two hours. Note : These durations are estimates based on tables of two. Larger parties may require additional time. We open up reservations on the first of every month for the following month–for example, on October 1st, all of November will be made available. If you find that the reservation you were hoping for is booked, we do hold a waitlist on'),\n",
       " Document(metadata={'source': '../../datasets/eleven_madison_park_data.txt'}, page_content='on October 1st, all of November will be made available. If you find that the reservation you were hoping for is booked, we do hold a waitlist on Resy and encourage you to add your name to it, and if something becomes available, we will be in touch. All sales are final and non-refundable. We do not offer cancellation or rescheduling options at this time. Eleven Madison Park does not include gratuity for the dining experience. Guests are welcome to leave a desired gratuity at the conclusion of their experience at their discretion. For any questions on our gratuity policies, please contact our guest relations team at info@elevenmadisonpark.com . Not a problem! We will be verifying all food allergies, aversions, and dietary restrictions prior to you joining us, but also at the table when you arrive for your meal. Yes. We offer wine pairings, starting at $125 per guest, as well as a full wine list that our wine team can help you select from and may also be viewed on our website. You are'),\n",
       " Document(metadata={'source': '../../datasets/eleven_madison_park_data.txt'}, page_content='starting at $125 per guest, as well as a full wine list that our wine team can help you select from and may also be viewed on our website. You are also welcome to bring your own special bottle of wine for your meal for a $75 per 750ml bottle corkage (4 bottle maximum) fee. We do not have a dress code. Many of our guests dress up for the occasion but wear whatever will make you most comfortable. You can reach our reservations team at any time at info@elevenmadisonpark.com . We can accommodate up to seven guests at a table in the main dining room. If you are interested in booking a table for a group larger than this, please contact our Private Dining and Special Events team at events@elevenmadisonpark.com . Yes, you can. Reservations for our Bar Tasting menu are available at our lounge tables and are $225 per guest; you may also order a number of items a la carte. Seats at the bar counter are on a first-come, first-serve basis. You may order our Bar Tasting menu in addition to'),\n",
       " Document(metadata={'source': '../../datasets/eleven_madison_park_data.txt'}, page_content='a number of items a la carte. Seats at the bar counter are on a first-come, first-serve basis. You may order our Bar Tasting menu in addition to cocktails, light snacks, and our a la carte menu. Unfortunately, Resy does not have the capability to accept gift cards as a form of payment at this time. Please secure your reservation using an alternate payment method, and our accounting team will be happy to help redeem your Eleven Madison Park gift card and credit the form of payment you used to make the booking. Contact Marcia Regen ( mregen@hummhospitality.com ) for help. You can always also bring Eleven Madison Park gift cards into the restaurant when you dine to be used toward any beverage purchased on site. To purchase a Braille gift card, please contact Marcia Regen ( mregen@hummhospitality.com ).'),\n",
       " Document(metadata={'source': '../../datasets/eleven_madison_park_data.txt'}, page_content='---END OF SOURCE---'),\n",
       " Document(metadata={'source': '../../datasets/eleven_madison_park_data.txt'}, page_content='Source: https://www.elevenmadisonpark.com/ourrestaurant\\nTitle: About — Eleven Madison Park\\nContent:'),\n",
       " Document(metadata={'source': '../../datasets/eleven_madison_park_data.txt'}, page_content='Welcome to Eleven Madison Park Eleven Madison Park is a fine dining restaurant in the heart of New York City. Overlooking Madison Square Park–one of Manhattan’s most beautiful green spaces–we sit at the base of a historic Art Deco building on the corner of East 24th Street and Madison Avenue. Since opening in 1998, we underwent a full-scale renovation and redesign in the summer of 2017. Chef Daniel Humm has owned the restaurant since 2011, during which time we have evolved considerably in both cuisine and experience. In 2021, we transitioned to a fully plant-based menu, using no animal products. That same year, we partnered with Magic Farms , which grows produce exclusively for our seasonal menus. Guests can enjoy a full tasting menu, a five-course menu, or a bar menu. The bar also offers à la carte snacks, as well as wine and cocktails. Reservations are available via Resy , and bar seating is open for both walk-ins and reservations. Hours: Monday to Wednesday: 5:30 pm to 10 pm'),\n",
       " Document(metadata={'source': '../../datasets/eleven_madison_park_data.txt'}, page_content='Reservations are available via Resy , and bar seating is open for both walk-ins and reservations. Hours: Monday to Wednesday: 5:30 pm to 10 pm Thursday to Friday: 5 pm to 11 pm Saturday: 12 pm to 2 pm, 5 pm to 11 pm Sunday: 12 pm to 2 pm, 5 pm to 11 pm View Wine List View Cocktail List Due to the hyper-seasonal nature of our menu, all courses are subject to change. Therefore, we do not share our food menus online. Book on Resy'),\n",
       " Document(metadata={'source': '../../datasets/eleven_madison_park_data.txt'}, page_content='---END OF SOURCE---'),\n",
       " Document(metadata={'source': '../../datasets/eleven_madison_park_data.txt'}, page_content='Source: https://www.elevenmadisonpark.com/magic-farms\\nTitle: Magic Farms — Eleven Madison Park\\nContent:'),\n",
       " Document(metadata={'source': '../../datasets/eleven_madison_park_data.txt'}, page_content='About Magic Farms As part of our transition to a plant-based menu, it was important for us to build a deeper connection to the ingredients we use in our kitchen. In 2021, we partnered with Chef Daniel Humm’s friend, Maciek Kobielski, to create Magic Farms on his family’s land in Hoosick Falls, New York. What began as a passion project for Maciek has become a full-time career. The farm now spans four acres of fields and seven high tunnels, growing produce exclusively for our seasonal menus. At the restaurant, this partnership has profoundly influenced our craft, fostering an ongoing dialogue between chef and farmer that shapes every menu. Our team collaborates with Maciek to plan menus around his harvest cycles and crop rotations, mapping out seasons in advance. Maciek grows each vegetable to our specifications using pesticide-free, regenerative techniques, with harvests peaking in the warmer months. This ensures access to the freshest, most flavorful produce year-round and allows each'),\n",
       " Document(metadata={'source': '../../datasets/eleven_madison_park_data.txt'}, page_content='techniques, with harvests peaking in the warmer months. This ensures access to the freshest, most flavorful produce year-round and allows each menu to reflect the best of the Northeast’s seasons. Book on Resy Maciek and Chef Humm Cherry Tomato Sunset over Magic Farms Delivery to the Restaurant Squash Blossoms Chefs Mattia and Josh visiting the farm. Badger Flame Beets Garlic Bulbs Sunflower Harvest A Tunnel in Spring Eggplants Greens Growing Radicchio Snow Day Maciek on His Tractor Radish Harvest Lettuces Growing Item 1 of 17'),\n",
       " Document(metadata={'source': '../../datasets/eleven_madison_park_data.txt'}, page_content='---END OF SOURCE---'),\n",
       " Document(metadata={'source': '../../datasets/eleven_madison_park_data.txt'}, page_content='Source: https://www.elevenmadisonpark.com/team\\nTitle: Team — Eleven Madison Park\\nContent:'),\n",
       " Document(metadata={'source': '../../datasets/eleven_madison_park_data.txt'}, page_content='Daniel Humm is a chef, author, speaker, and owner of Daniel Humm Hospitality , the New York-based hospitality group behind the highly acclaimed Eleven Madison Park, Clemente Bar , and direct-to-consumer lifestyle brand Eleven Madison Home . A native of Switzerland, Chef Humm earned his first Michelin star at the age of 24. He is consistently listed as one of the world’s best chefs, with both he and Eleven Madison Park receiving numerous accolades: four stars from The New York Times, seven James Beard Foundation Awards (including Outstanding Chef and Outstanding Restaurant in America), a number one spot on the world’s 50 Best Restaurants list, and three Michelin stars for over 12 years in a row, since 2012. At the height of the COVID-19 pandemic, Chef Humm transformed Eleven Madison Park’s Michelin-starred restaurant and its back-of-house into a commissary kitchen in partnership with Rethink Food , a not-for-profit organization co-founded by Chef Humm. He and his team prepared over'),\n",
       " Document(metadata={'source': '../../datasets/eleven_madison_park_data.txt'}, page_content='into a commissary kitchen in partnership with Rethink Food , a not-for-profit organization co-founded by Chef Humm. He and his team prepared over 1,000,000 meals over the course of the pandemic for frontline workers and underserved communities and distributed them to churches, shelters, and food banks. In 2021, he reopened Eleven Madison Park with a completely plant-based menu and became the first and only plant-based restaurant in Michelin Guide history to receive a three-star rating in October 2022. Gwendal Poullennec, the International Director of the Michelin Guides, has called Chef Humm and Eleven Madison Park a North Star that young chefs can fix their eyes upon as they navigate their gastronomic journey. Chef Humm uses his global platform to advocate for equitable, sustainable food systems. He wants to inspire people both within and beyond the fine-dining world and build awareness around the transformative power of food. As a leading figure in the culinary realm, he ignited a'),\n",
       " Document(metadata={'source': '../../datasets/eleven_madison_park_data.txt'}, page_content='and beyond the fine-dining world and build awareness around the transformative power of food. As a leading figure in the culinary realm, he ignited a conversation about challenging the definition of luxury in the food world and how it can be more purpose-driven at the United Nations Climate Change Conference in Glasgow, Scotland, in 2021. He discussed the impact of our food systems on the environment at the 2023’s Global Citizen Summit, joining activists and world leaders such as Canadian Prime Minister Justin Trudeau and French President Macron in setting a global agenda for action on the most urgent issues facing humanity and the planet. In September 2024, he was appointed UNESCO Goodwill Ambassador for Food Education by Audrey Azoulay, UNESCO’s Director-General. Chef Humm is the author of Eleven Madison Park: The Cookbook , I Love New York: Ingredients and Recipes , The NoMad Cookbook, Eleven Madison Park: The Next Chapter , and Eat More Plants . His latest book, titled Eleven'),\n",
       " Document(metadata={'source': '../../datasets/eleven_madison_park_data.txt'}, page_content='New York: Ingredients and Recipes , The NoMad Cookbook, Eleven Madison Park: The Next Chapter , and Eat More Plants . His latest book, titled Eleven Madison Park: The Plant-Based Chapter , was released in November 2024. Dominique Roy’s passion for cooking began at a young age, baking bread alongside his mother in his hometown of Gatineau, Canada. After attending culinary school at 17 and pastry school at 19, Dom worked for renowned chefs in Canada and France, including Georges Blanc and Jerome Ferrer. He participated in many different cooking competitions, including representing Team Canada in the Luxembourg Culinary World Cup in 2014. Dom always knew he wanted to work for one of the best restaurants in the world, and after staging at Maaemo in Oslo and Mirazur in France, he arrived in New York City from Montréal. He started with Eleven Madison Park in 2015, holding various positions, including Sous Chef and Culinary Research & Development. He also led the opening team of Davies &'),\n",
       " Document(metadata={'source': '../../datasets/eleven_madison_park_data.txt'}, page_content='Madison Park in 2015, holding various positions, including Sous Chef and Culinary Research & Development. He also led the opening team of Davies & Brook in London in 2019. During the COVID-19 pandemic in 2020, Dom spearheaded the Eleven Madison Park and Rethink Food partnership, leading the program that provided hundreds of thousands of meals to both food-insecure residents of New York City as well as frontline workers. In 2021, he assumed the title of Chef de Cuisine, leading the reopening and building the vision for EMP’s future, and in 2023 he became a partner at Daniel Humm Hospitality. Laura Cronin grew up having a love for food at an early age, working in bakeries in her hometown of Berkeley Heights, New Jersey. After graduating culinary school at Johnson & Wales University in Rhode Island, she moved across the country to pursue a career on the baking team at the San Francisco Baking Institute under the tutelage of Michel Suas. A year later, Laura relocated to Paris and enrolled'),\n",
       " Document(metadata={'source': '../../datasets/eleven_madison_park_data.txt'}, page_content='on the baking team at the San Francisco Baking Institute under the tutelage of Michel Suas. A year later, Laura relocated to Paris and enrolled at the Ecole Gregoire-Ferrandi, which led to an apprenticeship with Chef Angelo Musa. In 2011, Laura moved back to the States and worked in several restaurants including Zero Zero and Perbacco, where she was named San Francisco Chronicle’s Rising Star Chef and Zagat’s 30 under 30 list. In 2017, Laura moved to New York City to join the Eleven Madison Park team as a Pastry Sous Chef leading the team through the restaurant’s reopening and working closely with Executive Pastry Chef Mark Welker, she assumed the Pastry Chef role in 2019. Originally from New Jersey, Daniel DiStefano is the Executive Culinary Director for Daniel Humm Hospitality. Danny joined the team in 2009, starting as a commis and working his way up to sous chef in 2011. He has been instrumental in launching brands such as Made Nice and Eleven Madison Home. Following the pandemic,'),\n",
       " Document(metadata={'source': '../../datasets/eleven_madison_park_data.txt'}, page_content='his way up to sous chef in 2011. He has been instrumental in launching brands such as Made Nice and Eleven Madison Home. Following the pandemic, Danny returned as a Managing Partner to spearhead our at-home program and strategic partnerships, and in 2024, Danny assumed the role of Executive Culinary Director. In this role, he leads culinary operations and works closely with Chef Humm and the rest of the culinary development team on menus, partnerships, events, collaborations, and new projects. Josh Harnden was born in Seattle, Washington, where he was raised with a plant-based diet, which fueled his passion for food and the culinary arts from a young age. Immersed in the restaurant industry for over two decades, he worked his way through the Seattle culinary scene—including at the renowned Canlis—before moving to New York in 2011 to help open and manage Chef Daniel Humm’s restaurant at NoMad Hotel. After helping NoMad earn its first Michelin star, Josh was asked to join the team at'),\n",
       " Document(metadata={'source': '../../datasets/eleven_madison_park_data.txt'}, page_content='open and manage Chef Daniel Humm’s restaurant at NoMad Hotel. After helping NoMad earn its first Michelin star, Josh was asked to join the team at Eleven Madison Park, where he has held a number of different management positions, including leading research and development. In this role, he helped to launch a range of pop-ups and openings for Daniel Humm Hospitality, as well as developing recipes for the NoMad and Eleven Madison Park cookbooks, including this one. He is now a partner and the Creative Culinary Director for Daniel Humm Hospitality. Andrew Chandler was essentially born into restaurants, spending much of his childhood watching his mother command the dining rooms of some of the best restaurants in his home state of Wisconsin. He followed in her footsteps, taking on his first jobs bussing tables and washing dishes as a teenager. After high school, he graduated from University of Wisconsin-Platteville with a bachelor’s degree in Psychology. He went on to spend several years'),\n",
       " Document(metadata={'source': '../../datasets/eleven_madison_park_data.txt'}, page_content='After high school, he graduated from University of Wisconsin-Platteville with a bachelor’s degree in Psychology. He went on to spend several years working with children with special needs, while simultaneously working full time in some of the best restaurants in Milwaukee, including Riversite and Braise. Eventually it became clear that his true calling was working in the dining room, and in 2012 he moved across the country to start as a Kitchen Server at Eleven Madison Park. Andrew has worked through nearly every position in the restaurant, making the transition to management in 2016. Within Make it Nice he has led the team through the pop-up EMP Summer House, the subsequent reopening of Eleven Madison Park, and the opening of Davies and Brook in London. For our General Manager, Gabriel Di Bella, an understanding of delicious food and wine runs in the family. The son of an Italian chef, he grew up helping out in his parents’ restaurant in France. As a young adult, he studied at the'),\n",
       " Document(metadata={'source': '../../datasets/eleven_madison_park_data.txt'}, page_content='wine runs in the family. The son of an Italian chef, he grew up helping out in his parents’ restaurant in France. As a young adult, he studied at the wine school of Tain-l’Hermitage in the heart of the Rhône Valley, before joining the wine team at Alain Ducasse in Monaco. He later spent time at Marcus at The Berkeley and the Birley Clubs in London. Gabriel came on board at Daniel Humm Hospitality as the opening Wine Director for Davies & Brook in 2019, and in 2021, he joined us at Eleven Madison Park as our Wine Director. Today, he leads the team as our General Manager. Our Wine Director, Adam Waddell, was born and raised on the West Coast, where he started violin studies at the age of four. After coming to New York in 2010 to continue studies in Classical Violin Performance, he soon developed a new-found passion for wine and hospitality. Since then, he has worked at many well-known New York City restaurants, such as Jean-Georges, Ai Fiori, and Gabriel Kreuther. Adam was the first'),\n",
       " Document(metadata={'source': '../../datasets/eleven_madison_park_data.txt'}, page_content='Since then, he has worked at many well-known New York City restaurants, such as Jean-Georges, Ai Fiori, and Gabriel Kreuther. Adam was the first Head Sommelier at SAGA by Jamal James Kent and joined Eleven Madison Park in 2023 as Associate Wine Director. In 2025, he was named Wine Director and now leads the program with dedication and expertise. Sebastian Tollius has been perfecting his craft in the hospitality industry for almost 15 years. Before joining us at Eleven Madison Park in 2019, he worked in some of the best bars and hotels around the world, including in Switzerland, Thailand, and Spain. Bringing a range of innovative concepts and a culinary approach, Sebastian expertly led our Beverage team through our 2021 re-opening and plant-based transition, and he has transformed our cocktail program through new plant-based techniques and ingredients. He and his team now work closely with our chefs in the kitchen to create a brand-new cocktail menu each season that complements and'),\n",
       " Document(metadata={'source': '../../datasets/eleven_madison_park_data.txt'}, page_content='and ingredients. He and his team now work closely with our chefs in the kitchen to create a brand-new cocktail menu each season that complements and highlights ingredients from the tasting menu – constantly pushing boundaries when it comes to both technique and flavor. Mattia Rancati, Senior Sous Chef Stefano Casale , Senior Sous Chef Davide Peli, Sous Chef Luis Garcia, Sous Chef Marissa Mazzella, Sous Chef Pascal Rauwolf, Executive Pastry Sous Chef Orianna Mendez, Junior Pastry Sous Chef Pooja Harsora, Junior Sous Chef Youngbo Lee, Junior Sous Chef Alexander Mies, Purchasing Manager James Gale, Service Director Harry Basley, Dining Room Manager Eliazar Cervantes, Restaurant Operations Manager Marina Dos Santos Malta, Guest Relations Manager Caitlin McBride, Private Dining Room Manager'),\n",
       " Document(metadata={'source': '../../datasets/eleven_madison_park_data.txt'}, page_content='---END OF SOURCE---'),\n",
       " Document(metadata={'source': '../../datasets/eleven_madison_park_data.txt'}, page_content='Source: https://www.elevenmadisonpark.com/events\\nTitle: Events — Eleven Madison Park\\nContent:\\nEvents & Private Dining Our restaurant offers a variety of stunning spaces to suit any event, from intimate gatherings to grand celebrations. Each space has its own unique character, seamlessly blending art, design, and exceptional hospitality. Whether you envision a seated dinner, a cocktail reception, or a corporate meeting, our thoughtfully designed venues can be tailored to your needs. For more information about hosting an event with us, please review our Private Events Deck , or contact the Private Dining and Special Events Department using the form linked below. Learn More Inquire\\n---END OF SOURCE---'),\n",
       " Document(metadata={'source': '../../datasets/eleven_madison_park_data.txt'}, page_content='Source: https://www.elevenmadisonpark.com/contact\\nTitle: Contact — Eleven Madison Park\\nContent:\\nContact Us Visit Resy Note: We open up reservations on the first of every month for the following month - for example, on October 1st, all of November will be made available. If you find that the reservation you were hoping for is booked, we do hold a waitlist and encourage you to add your name to it, and if something does become available, we will be in touch. Please contact careers@elevenmadisonpark.com or visit Culinary Agents . To stay up to date about future Eleven Madison Park news and events, please sign up for our Newsletter . Please contact events@elevenmadisonpark.com Please contact press@elevenmadisonpark.com Thank you for thinking of Eleven Madison Park for your inquiry. At this time, all of our non-profit efforts are focused on our partnership with Rethink Food . Email: info@elevenmadisonpark.com Phone: 212.889.0905 Ext. 3\\n---END OF SOURCE---')]"
      ]
     },
     "execution_count": 31,
     "metadata": {},
     "output_type": "execute_result"
    }
   ],
   "source": [
    "documents"
   ]
  },
  {
   "cell_type": "code",
   "execution_count": 32,
   "id": "49e89787",
   "metadata": {},
   "outputs": [],
   "source": [
    "# Created vector store and input documents\n",
    "vector_store = Chroma.from_documents(documents=documents, embedding=embeddings)"
   ]
  },
  {
   "cell_type": "code",
   "execution_count": 33,
   "id": "0d67f12b",
   "metadata": {},
   "outputs": [
    {
     "name": "stdout",
     "output_type": "stream",
     "text": [
      "Chroma vectorstore created with 38 items.\n"
     ]
    }
   ],
   "source": [
    "vector_count = vector_store._collection.count()\n",
    "print(f\"Chroma vectorstore created with {vector_count} items.\")"
   ]
  },
  {
   "cell_type": "code",
   "execution_count": 34,
   "id": "1c2c2417",
   "metadata": {},
   "outputs": [],
   "source": [
    "# Retrieve the first chunk of stored data from the vector store\n",
    "stored_data = vector_store.get(include=[\"embeddings\", \"documents\"], limit=1)"
   ]
  },
  {
   "cell_type": "code",
   "execution_count": 35,
   "id": "788075e6",
   "metadata": {},
   "outputs": [
    {
     "name": "stdout",
     "output_type": "stream",
     "text": [
      "First chunk:\n",
      " Source: https://www.elevenmadisonpark.com/\n",
      "Title: Eleven Madison Park\n",
      "Content:\n",
      "Book on Resy\n",
      "---END OF SOURCE---\n",
      "\n",
      "Embedding vector\n",
      " [ 0.02317428 -0.01570047 -0.00702894 ... -0.02469368 -0.01039626\n",
      " -0.06181634]\n",
      "\n",
      "Full embedding dimensions: 1536\n"
     ]
    }
   ],
   "source": [
    "print(\"First chunk:\\n\", stored_data['documents'][0])\n",
    "print(\"\\nEmbedding vector\\n\", stored_data['embeddings'][0])\n",
    "print(f\"\\nFull embedding dimensions: {len(stored_data['embeddings'][0])}\")"
   ]
  },
  {
   "cell_type": "code",
   "execution_count": 36,
   "id": "6004f174",
   "metadata": {},
   "outputs": [],
   "source": [
    "test_query = \"Is there a dress code?\""
   ]
  },
  {
   "cell_type": "code",
   "execution_count": 37,
   "id": "2784d1d4",
   "metadata": {},
   "outputs": [
    {
     "name": "stdout",
     "output_type": "stream",
     "text": [
      "Found 1\n",
      "\n",
      "--- Document 1 ---\n",
      "Content snippet: starting at $125 per guest, as well as a full wine list that our wine team can help you select from and may also be viewed on our website. You are also welcome to bring your own special bottle of wine for your meal for a $75 per 750ml bottle corkage (4 bottle maximum) fee. We do not have a dress code. Many of our guests dress up for the occasion but wear whatever will make you most comfortable. You can reach our reservations team at any time at info@elevenmadisonpark.com . We can accommodate up to seven guests at a table in the main dining room. If you are interested in booking a table for a group larger than this, please contact our Private Dining and Special Events team at events@elevenmad\n",
      "Source: ../../datasets/eleven_madison_park_data.txt\n"
     ]
    }
   ],
   "source": [
    "try:\n",
    "    similar_docs = vector_store.similarity_search(test_query, k=1)\n",
    "    print(f\"Found {len(similar_docs)}\")\n",
    "\n",
    "    for i, doc in enumerate(similar_docs):\n",
    "        print(f\"\\n--- Document {i+1} ---\")\n",
    "        # Get the first 700 characters\n",
    "        content_snippet = doc.page_content[:700].strip()\n",
    "        source = doc.metadata.get(\"source\", \"Unknown Source\")\n",
    "        print(f\"Content snippet: {content_snippet}\")\n",
    "        print(f\"Source: {source}\")\n",
    "except Exception as e:\n",
    "    print(f\"An error occurred: {e}\")"
   ]
  },
  {
   "cell_type": "code",
   "execution_count": 38,
   "id": "5706a8c2",
   "metadata": {},
   "outputs": [],
   "source": [
    "retriever = vector_store.as_retriever(search_kwargs={\"k\": 3})\n",
    "\n",
    "llm = OpenAI(temperature=0, openai_api_key=openai_api_key)"
   ]
  },
  {
   "cell_type": "code",
   "execution_count": 39,
   "id": "e6eeb4c8",
   "metadata": {},
   "outputs": [],
   "source": [
    "qa_chain = RetrievalQAWithSourcesChain.from_chain_type(\n",
    "    llm=llm,\n",
    "    chain_type=\"stuff\",\n",
    "    retriever=retriever,\n",
    "    return_source_documents=False,\n",
    "    verbose=True\n",
    ")"
   ]
  },
  {
   "cell_type": "code",
   "execution_count": 40,
   "id": "28c05760",
   "metadata": {},
   "outputs": [
    {
     "name": "stdout",
     "output_type": "stream",
     "text": [
      "Query: What kind of food does Eleven Madison Park serve?\n",
      "\n",
      "\n",
      "\u001b[1m> Entering new RetrievalQAWithSourcesChain chain...\u001b[0m\n",
      "\n",
      "\u001b[1m> Finished chain.\u001b[0m\n",
      "\n",
      "--- Answer ---\n",
      "\n",
      " Eleven Madison Park serves a fully plant-based menu, using no animal products.\n",
      "\n",
      "\n",
      "--- Sources ---\n",
      "\n",
      "https://www.elevenmadisonpark.com/ourrestaurant, https://www.elevenmadisonpark.com/faq\n"
     ]
    }
   ],
   "source": [
    "# Test the full chain\n",
    "chain_test_query = \"What kind of food does Eleven Madison Park serve?\"\n",
    "print(f\"Query: {chain_test_query}\")\n",
    "\n",
    "try:\n",
    "    result = qa_chain.invoke({\"question\": chain_test_query})\n",
    "\n",
    "    # print the answer and the sources from the result directory\n",
    "    print(\"\\n--- Answer ---\\n\")\n",
    "    print(result.get(\"answer\", \"No answer generated.\"))\n",
    "\n",
    "    print(\"\\n--- Sources ---\\n\")\n",
    "    print(result.get(\"sources\", \"No sources identified\"))\n",
    "\n",
    "    if \"source_documents\" in result:\n",
    "        for i, doc in enumerate(result[\"source_documents\"]):\n",
    "            content_snippet = doc.page_content[:250].strip()\n",
    "            print(f\"Doc {i+1}: {content_snippet}\")\n",
    "\n",
    "except Exception as e:\n",
    "    print(f\"\\nAn error occurred while running the chain: {e}\")"
   ]
  },
  {
   "cell_type": "code",
   "execution_count": 41,
   "id": "9c15dbc6",
   "metadata": {},
   "outputs": [
    {
     "data": {
      "text/plain": [
       "{'question': 'What kind of food does Eleven Madison Park serve?',\n",
       " 'answer': ' Eleven Madison Park serves a fully plant-based menu, using no animal products.\\n',\n",
       " 'sources': 'https://www.elevenmadisonpark.com/ourrestaurant, https://www.elevenmadisonpark.com/faq'}"
      ]
     },
     "execution_count": 41,
     "metadata": {},
     "output_type": "execute_result"
    }
   ],
   "source": [
    "result"
   ]
  },
  {
   "cell_type": "code",
   "execution_count": null,
   "id": "e85a52d2",
   "metadata": {},
   "outputs": [
    {
     "name": "stdout",
     "output_type": "stream",
     "text": [
      "Gradio interface defined\n",
      "* Running on local URL:  http://127.0.0.1:7860\n",
      "* To create a public link, set `share=True` in `launch()`.\n"
     ]
    },
    {
     "data": {
      "text/html": [
       "<div><iframe src=\"http://127.0.0.1:7860/\" width=\"100%\" height=\"500\" allow=\"autoplay; camera; microphone; clipboard-read; clipboard-write;\" frameborder=\"0\" allowfullscreen></iframe></div>"
      ],
      "text/plain": [
       "<IPython.core.display.HTML object>"
      ]
     },
     "metadata": {},
     "output_type": "display_data"
    },
    {
     "data": {
      "text/plain": []
     },
     "execution_count": 42,
     "metadata": {},
     "output_type": "execute_result"
    },
    {
     "name": "stdout",
     "output_type": "stream",
     "text": [
      "\n",
      "Processing Gradio query: 'What hours is the restaurance open on saturdays?\n",
      "\n",
      "\n",
      "\u001b[1m> Entering new RetrievalQAWithSourcesChain chain...\u001b[0m\n",
      "\n",
      "\u001b[1m> Finished chain.\u001b[0m\n",
      "--> Answer generated: The restaurant is open on Saturdays from 12 pm to 2 pm and 5 pm to 11 pm....\n",
      "--> Sources identified: Retrieved from: ../../datasets/eleven_madison_park_data.txt\n"
     ]
    }
   ],
   "source": [
    "# This function takes the user input, runs the chain, and then formats the output in a gradio interface\n",
    "# The 'qa_chain' variables needs to be accessible in this scope for this function to work.\n",
    "\n",
    "def ask_elevenmadison_assistant(user_query):\n",
    "    \"\"\"\n",
    "    Process the user query using the RAG chain and return formatted results\n",
    "    \"\"\"\n",
    "    print(f\"\\nProcessing Gradio query: '{user_query}\")\n",
    "    if not user_query or user_query.strip() == \"\":\n",
    "        print(\"--> Empty query recieved.\")\n",
    "        return \"Please enter a question.\", \"\" # Handle empty input gracefully\n",
    "    \n",
    "    try:\n",
    "        result = qa_chain.invoke({\"question\": user_query})\n",
    "\n",
    "        # Extract the answer and sources\n",
    "        answer = result.get(\"answer\", \"Sorry, I couldn't find an answer in the provided documents.\")\n",
    "        sources = result.get(\"sources\", \"No specific sources identified.\")\n",
    "\n",
    "        if sources == DATA_FILE_PATH:\n",
    "            sources = f\"Retrieved from: {DATA_FILE_PATH}\"\n",
    "        elif isinstance(sources, list): # Handle potential list of sources\n",
    "            sources = \", \".join(list(set(sources))) # Unique, comma-separated\n",
    "\n",
    "        print(f\"--> Answer generated: {answer[:100].strip()}...\")\n",
    "        print(f\"--> Sources identified: {sources}\")\n",
    "\n",
    "        # Return the answer and sources to be displayed with Gradio output compontents\n",
    "        return answer.strip(), sources\n",
    "\n",
    "    except Exception as e:\n",
    "        error_message = f\"An error occurred: {e}\"\n",
    "        print(\"--> Error during chain execution: {error_message}\")\n",
    "        return error_message, \"Error occurred\"\n",
    "    \n",
    "# Create the gradio interface\n",
    "with gr.Blocks(theme=gr.themes.Soft(), title=\"Eleven Madison Park Q&A Assistant\") as demo:\n",
    "    gr.Markdown(\n",
    "    \"\"\"\n",
    "    # Eleven Madison Park - AI Q&A Assistant\n",
    "    Ask questions about the restaurant based on its website data.\n",
    "    The AI provides answers and cites the source document.\n",
    "    *(Examples: What are the menu prices?  Who is the chef? Is it plant-based?)*\n",
    "    \"\"\"\n",
    "    )\n",
    "\n",
    "    # Input  component for the user's question\n",
    "    question_input = gr.Textbox(\n",
    "        label = \"Your Question:\",\n",
    "        placeholder = \"e.g., What are the operating hours on Saturday?\",\n",
    "        lines = 2, # Allow space for longer questions\n",
    "    )\n",
    "\n",
    "    # Row layout for the output\n",
    "    with gr.Row():\n",
    "        # Output component for the generated answer (read only)\n",
    "        answer_output = gr.Textbox(label=\"Answer:\", interactive=False, lines=6) # User cannot edit this\n",
    "        # Output component for the souce (read only)\n",
    "        sources_output = gr.Textbox(label=\"Sources:\", interactive=False, lines=2)\n",
    "\n",
    "    # Row for buttons\n",
    "    with gr.Row():\n",
    "        # Button for submitting question\n",
    "        submit_button = gr.Button(\"Ask RAG Q&A chat app\", variant=\"primary\")\n",
    "        # Clear button to reset input and output values\n",
    "        clear_button = gr.ClearButton(components=[question_input, answer_output, sources_output], value=\"Clear All\")\n",
    "\n",
    "    # Add some example questions for users to try\n",
    "    gr.Examples(\n",
    "        examples=[\n",
    "            \"What are the different menu options and prices?\",\n",
    "            \"Who is the head chef?\",\n",
    "            \"What is Magic Farms?\"\n",
    "        ],\n",
    "        inputs = question_input, # Clicking example will load this input\n",
    "        cache_examples = False, # Don't pre-compute results for examples for simplicity\n",
    "    )\n",
    "\n",
    "    # Connect the submit button to the Function\n",
    "    submit_button.click(fn=ask_elevenmadison_assistant, inputs=question_input, outputs=[answer_output, sources_output])\n",
    "\n",
    "print(\"Gradio interface defined\")\n",
    "\n",
    "# Launch the Gradio app\n",
    "demo.launch()\n"
   ]
  },
  {
   "cell_type": "code",
   "execution_count": null,
   "id": "095b4acf",
   "metadata": {},
   "outputs": [],
   "source": []
  }
 ],
 "metadata": {
  "kernelspec": {
   "display_name": "venv",
   "language": "python",
   "name": "python3"
  },
  "language_info": {
   "codemirror_mode": {
    "name": "ipython",
    "version": 3
   },
   "file_extension": ".py",
   "mimetype": "text/x-python",
   "name": "python",
   "nbconvert_exporter": "python",
   "pygments_lexer": "ipython3",
   "version": "3.12.3"
  }
 },
 "nbformat": 4,
 "nbformat_minor": 5
}
